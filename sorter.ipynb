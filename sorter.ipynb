{
 "cells": [
  {
   "cell_type": "markdown",
   "metadata": {},
   "source": [
    "\n",
    "# WARNING RUN ONCE ONLY Check toBeAligned.txt"
   ]
  },
  {
   "cell_type": "code",
   "execution_count": 197,
   "metadata": {},
   "outputs": [],
   "source": [
    "import pandas as pd"
   ]
  },
  {
   "cell_type": "code",
   "execution_count": 198,
   "metadata": {},
   "outputs": [
    {
     "data": {
      "text/plain": [
       "'Expected format\\n>ZnOr40JI\\nMEHTKKDTHASHNSLSESRFKILLLLIRMAGLQLNVKSKSMIHTIYNGILVLCFHTSMLSLWMDTFVHRHQLVELMKKIRILIGTQIATWVHFSLSYRKREVEHLIRLTDSFTWEELPTRDPDTGYLTMAGYIPLIQKVTKYITLFVTLFHCTQTTVRIILNHDMVLTSWYPFEVSGSPAYEIANITQGIASIFIICIFFGFACLNATLICVACSQLEKLRAALLDIRQTHLTSQQECGAETNKKDGEQRCLIFIIAAVNKEFTLTAGKFVPVSNKTMMNMMNQTLSFFMFLLQMKDKSTDTSQGA\\n>ZnOr41\\nMEHTNKDTHASHNSLSESRFKILLLLLRTTGIRLNVKSKSAVHIIYSVILAVFIHVSILSLYVDTFVQRHQLVELMKKLRLLIATQIVTWMHFSLSYRKREVEHLIRLTDYFTWEELPTRDPDTGYLTKAGYLPFIQKLTKYATLFAIIYHCTQTTVRIILNHDMVFASWYPLEVSESPAYEIANITQAIQTILMIFLFIGFQSLYATFVCVACSQLEKLRAAILDIRQTYITPEQDCGAETNKKDGEGHPRTHEELFGHMQKQLNDCIRHHQKIKRYMEALENAMNLPMCGLFLICLSTMCFAAFSATLSWGDHVDVSQALIIYIMVSACVCQFCWLGNELSEEAENVRDAAWGCDWVGTPVPFQRCLIFIIAAANKEFTLTAGKFVPVSNKTMMNMMNQTLSFFMFLLQMKDKSTDTSQGA\\n'"
      ]
     },
     "execution_count": 198,
     "metadata": {},
     "output_type": "execute_result"
    }
   ],
   "source": [
    "def myPrint(y):\n",
    "    for i in y:\n",
    "        print(i)\n",
    "        #print('\\n')\n",
    "    return\n",
    "\n",
    "\n",
    "def indexloc(name,dataList):\n",
    "    for i in range(0,len(dataList)):\n",
    "        if 'ID   '+name == dataList[i]:\n",
    "            y=i\n",
    "            print(i)\n",
    "    return int(y)\n",
    "\n",
    "\n",
    "\n",
    "with open('sorterInput/toBeAlingned.txt') as f:\n",
    "    data=f.read().split('\\n')  \n",
    "f.close()\n",
    "\n",
    "''' Expected format\n",
    "ZnOr40JI      MEHTKKDTHASHNSLSESRFKILLLLIRMAGLQLNVKSKSMIHTIYNGILVLCFHTSMLS\n",
    "ZnOr41        MEHTNKDTHASHNSLSESRFKILLLLLRTTGIRLNVKSKSAVHIIYSVILAVFIHVSILS\n",
    "ZnOr43        ----MKTYTSCDTNLNERRFKTLLSLLRLGGIPLNIKSVSNANTAYNVFIIVCFYTTSVC\n",
    "ZnOr42        ----MKPVISSDRNLDERRFKTILVLLRLGGIPLNMKSISKVRTVYSVFIIFCYYCTMFC\n",
    "ZnOr46        ----MTDQHLRVNGLTEQRFRKSLFTLRLVGIPLNVRSISRAHTVYNCIVVVCFYITYSA\n",
    "                   .       .* * **:  *  :*  *: **::* *  .  *. :: .  : :  .\n",
    "\n",
    "ZnOr40JI      LWMDTFVHRHQLVELMKKIRILIGTQIATWVHFSLSYRKREVEHLIRLTDSFTWEELPTR\n",
    "ZnOr41        LYVDTFVQRHQLVELMKKLRLLIATQIVTWMHFSLSYRKREVEHLIRLTDYFTWEELPTR\n",
    "ZnOr43        LWIDSYVHRNQLVQAMKKIRILVGMQLVTWIHFSLSYRRREIEYLIRLTDTFTWEELPSR\n",
    "ZnOr42        LAMDTFTHRHQLDQAMKKLRVLMGMVLSLWIHFSLSYRKGELEHLIGLTDSFTWEELPTR\n",
    "ZnOr46        CLMDLLFNNDSLMGIMKDIRALLGMQLVVWIHLFFRFRKREIAHLLALTDSFTWEELPTK\n",
    "                :*   :...*   **.:* *:.  :  *:*: : :*: *: :*: *** *******::\n",
    "'''\n",
    "\n",
    "with open('sorterInput/CfOrTMData.txt') as f:\n",
    "    dataTHR=f.read().split('\\n')  \n",
    "f.close()\n",
    "\n",
    "'''Expected format\n",
    "ID   ZnOr40JI\n",
    "FT   DOMAIN        1     17       NON CYTOPLASMIC.\n",
    "FT   TRANSMEM     18     36       \n",
    "FT   DOMAIN       37     44       CYTOPLASMIC.\n",
    "FT   TRANSMEM     45     66       \n",
    "FT   DOMAIN       67     78       NON CYTOPLASMIC.\n",
    "FT   TRANSMEM     79    101       \n",
    "FT   DOMAIN      102    123       CYTOPLASMIC.\n",
    "FT   TRANSMEM    124    146       \n",
    "FT   DOMAIN      147    189       NON CYTOPLASMIC.\n",
    "FT   TRANSMEM    190    214       \n",
    "FT   DOMAIN      215    251       CYTOPLASMIC.\n",
    "FT   TRANSMEM    252    273       \n",
    "FT   DOMAIN      274    276       NON CYTOPLASMIC.\n",
    "FT   TRANSMEM    277    295       \n",
    "FT   DOMAIN      296    306       CYTOPLASMIC.\n",
    "//\n",
    "ID   ZnOr41\n",
    "FT   DOMAIN        1     41       NON CYTOPLASMIC.\n",
    "FT   TRANSMEM     42     63       \n",
    "FT   DOMAIN       64     74       CYTOPLASMIC.\n",
    "FT   TRANSMEM     75     94       \n",
    "FT   DOMAIN       95    141       NON CYTOPLASMIC.\n",
    "FT   TRANSMEM    142    162       \n",
    "FT   DOMAIN      163    182       CYTOPLASMIC.\n",
    "FT   TRANSMEM    183    202       \n",
    "FT   DOMAIN      203    283       NON CYTOPLASMIC.\n",
    "FT   TRANSMEM    284    306       \n",
    "FT   DOMAIN      307    321       CYTOPLASMIC.\n",
    "FT   TRANSMEM    322    343       \n",
    "FT   DOMAIN      344    353       NON CYTOPLASMIC.\n",
    "FT   TRANSMEM    354    373       \n",
    "FT   DOMAIN      374    423       CYTOPLASMIC.\n",
    "//\n",
    "'''\n",
    "\n",
    "with open('sorterInput/CfOrSeq.FASTA') as f:\n",
    "    dataSEQ=f.read().split('\\n')  \n",
    "f.close()\n",
    "\n",
    "'''Expected format\n",
    ">ZnOr40JI\n",
    "MEHTKKDTHASHNSLSESRFKILLLLIRMAGLQLNVKSKSMIHTIYNGILVLCFHTSMLSLWMDTFVHRHQLVELMKKIRILIGTQIATWVHFSLSYRKREVEHLIRLTDSFTWEELPTRDPDTGYLTMAGYIPLIQKVTKYITLFVTLFHCTQTTVRIILNHDMVLTSWYPFEVSGSPAYEIANITQGIASIFIICIFFGFACLNATLICVACSQLEKLRAALLDIRQTHLTSQQECGAETNKKDGEQRCLIFIIAAVNKEFTLTAGKFVPVSNKTMMNMMNQTLSFFMFLLQMKDKSTDTSQGA\n",
    ">ZnOr41\n",
    "MEHTNKDTHASHNSLSESRFKILLLLLRTTGIRLNVKSKSAVHIIYSVILAVFIHVSILSLYVDTFVQRHQLVELMKKLRLLIATQIVTWMHFSLSYRKREVEHLIRLTDYFTWEELPTRDPDTGYLTKAGYLPFIQKLTKYATLFAIIYHCTQTTVRIILNHDMVFASWYPLEVSESPAYEIANITQAIQTILMIFLFIGFQSLYATFVCVACSQLEKLRAAILDIRQTYITPEQDCGAETNKKDGEGHPRTHEELFGHMQKQLNDCIRHHQKIKRYMEALENAMNLPMCGLFLICLSTMCFAAFSATLSWGDHVDVSQALIIYIMVSACVCQFCWLGNELSEEAENVRDAAWGCDWVGTPVPFQRCLIFIIAAANKEFTLTAGKFVPVSNKTMMNMMNQTLSFFMFLLQMKDKSTDTSQGA\n",
    "'''\n",
    "\n",
    "#myPrint(data)  "
   ]
  },
  {
   "cell_type": "markdown",
   "metadata": {},
   "source": [
    "# Setparameters"
   ]
  },
  {
   "cell_type": "code",
   "execution_count": 199,
   "metadata": {},
   "outputs": [
    {
     "name": "stdout",
     "output_type": "stream",
     "text": [
      "0\n",
      "5967\n"
     ]
    }
   ],
   "source": [
    "n = 352 #number of proteins analyzed \n",
    "sec = 12 #sections\n",
    "introLenght=len('CfOrco       ')\n",
    "\n",
    "\n",
    "#should be the long one\n",
    "#alignedSeqLenght=len('-----------------------------MEHTK--KDT-HASHNSLSESRFKILLLLIRMAGLQLNVKSK------SMIHTIYNGILVLCFHTSMLSLWMDTFVHRHQLVELM----------KKIRILIGTQIATWVHFSLSYRKREVEHLIRLTD-SFTWEELPTRDPDTGYLTMAGYIPLIQKVTKYITLFVTLFHCTQTTV--------------------------RIILN-HD---MVL-TSWYPFE-VSGSP-AYEIANITQGIASIFII-CIFFGFACLNATLICVACSQLEKLRAALLDIRQTHLTSQ-QECGAET-------------------------------------------------------------------------NK------------------KD------------------G----E-----------------------------------------------------------------------------------------------------------------------QRCLIFIIAAVNKEFTLTAGKFVPVSNKTMMNMMNQTLSFFMFLLQMKDKSTDTSQGA--------')\n",
    "alignedSeqLenght=len('-----------------------------MMKMKQQQG---LVADLYP--NIRVMKMFGHFVFNYYDDN--SSKYLHKVYCCVNLFLLLL---QFGL-CAV---NLII-ES-A--D-V-DDLTA-N---TITLLFF-THSIVKVV----------YFAVR-SKYF--YRTW-AIWNNPNSHPLF--AE--SN-A---RY--HAIAL-KKMRLLLF----L---VGA--T-TVLTAIA---WTV--L-T-FFEHPI--RKL-VDPVTN-ETTIIE--LP-QLL-----VRSFY-PF-DAS---RGI--KHILVLIYQFYWVLFM-LINANS--L-DVLFCSWLLFA----CEQLQHLKQIM--KPLMELSATLDTVVPNSSELFKAGS--ADHLRESENNQSQLPAPPQGDSMLDLDLRNIYSNRQDFTATFRPTAGMTFNGGVGPNGLTKKQEMLVRSAIK--YWVERH-KHI--VR-LV--TAVGDAYGFALL--------LHML---TTT-I--TL-----TLLA--YQ-A-------TK-------VNG----------I-NVYAAST---IGYVLYTFGQVF------LFCIFGNRLIEESTSVMEAA-----YSCHWYDGSEEAK-----TFVQIVCQQCQKAMS--I-SGAKFF-TVSLDLFA--SV--LGAVVTYFMVLVQLK-------')\n",
    "\n",
    "startName='CfOrco'\n",
    "endName='CfOr150'\n",
    "interval=17 #should be 17 check on file\n",
    "numLenght=len('FT   DOMAIN      ')#should be constant check on file\n",
    "\n",
    "\n",
    "startIndex=indexloc(startName,dataTHR)\n",
    "endIndex=indexloc(endName,dataTHR)"
   ]
  },
  {
   "cell_type": "code",
   "execution_count": 200,
   "metadata": {
    "scrolled": false
   },
   "outputs": [],
   "source": [
    "dataSorted=[]\n",
    "for i in range(0,n+1):\n",
    "    dataSorted.append(data[i])\n",
    "#myPrint(dataSorted)\n",
    "\n",
    "dataReduced = data[n+2:]\n",
    "#myPrint(dataReduced)\n",
    "\n",
    "for i in range(0,len(dataReduced)):\n",
    "    dataReduced[i]=dataReduced[i][introLenght:] #remove the first 28 characters to all\n",
    "#myPrint(dataReduced)\n",
    "\n",
    "for i in range(0,n+1):\n",
    "    for j in range(0,sec-1):\n",
    "        dataSorted[i]=dataSorted[i]+dataReduced[i+j*(n+2)]\n",
    "        \n",
    "#myPrint(dataSorted) "
   ]
  },
  {
   "cell_type": "code",
   "execution_count": 201,
   "metadata": {},
   "outputs": [
    {
     "name": "stdout",
     "output_type": "stream",
     "text": [
      "CfOrco       -----------------------------MMKMKQQQG---LVADLYP--NIRVMKMFGHFVFNYYDDN--SSKYLHKVYCCVNLFLLLL---QFGL-CAV---NLII-ES-A--D-V-DDLTA-N---TITLLFF-THSIVKVV----------YFAVR-SKYF--YRTW-AIWNNPNSHPLF--AE--SN-A---RY--HAIAL-KKMRLLLF----L---VGA--T-TVLTAIA---WTV--L-T-FFEHPI--RKL-VDPVTN-ETTIIE--LP-QLL-----VRSFY-PF-DAS---RGI--KHILVLIYQFYWVLFM-LINANS--L-DVLFCSWLLFA----CEQLQHLKQIM--KPLMELSATLDTVVPNSSELFKAGS--ADHLRESENNQSQLPAPPQGDSMLDLDLRNIYSNRQDFTATFRPTAGMTFNGGVGPNGLTKKQEMLVRSAIK--YWVERH-KHI--VR-LV--TAVGDAYGFALL--------LHML---TTT-I--TL-----TLLA--YQ-A-------TK-------VNG----------I-NVYAAST---IGYVLYTFGQVF------LFCIFGNRLIEESTSVMEAA-----YSCHWYDGSEEAK-----TFVQIVCQQCQKAMS--I-SGAKFF-TVSLDLFA--SV--LGAVVTYFMVLVQLK-------\n"
     ]
    }
   ],
   "source": [
    "dataTM=[None]*(len(dataSorted)-1)*2\n",
    "ran = int((len(dataSorted)-1)*2)\n",
    "for x in range(0,ran,2):\n",
    "    dataTM[x]=dataSorted[int(x/2)]\n",
    "print(dataTM[0])"
   ]
  },
  {
   "cell_type": "code",
   "execution_count": 202,
   "metadata": {},
   "outputs": [],
   "source": [
    "ran=int(len(dataTM))\n",
    "for x in range(0,len(dataTM),2):\n",
    "    dataTM[x+1]=dataTM[x][0:introLenght]\n",
    "#myPrint(dataTM)"
   ]
  },
  {
   "cell_type": "markdown",
   "metadata": {},
   "source": [
    "# Note that start and end must be aligned with phylogeny\n",
    "# name index x on dataTM is index x/17*2+1 in data2 \n",
    "# 17:20 and 24:27 is fixed due to data2\n",
    "# data[i+j] goes over every other line starting from the name index on  dataTM"
   ]
  },
  {
   "cell_type": "code",
   "execution_count": 203,
   "metadata": {},
   "outputs": [],
   "source": [
    "ran=int((startIndex/17)*2+1)#ran gives index of seq\n",
    "#dataSEQ[ran+2]"
   ]
  },
  {
   "cell_type": "code",
   "execution_count": 204,
   "metadata": {},
   "outputs": [],
   "source": [
    "TMIndexHolder=[None]*14\n",
    "#dataTM[1][introLenght-1]\n",
    "afterdash=False"
   ]
  },
  {
   "cell_type": "code",
   "execution_count": 205,
   "metadata": {},
   "outputs": [],
   "source": [
    "loopCounter=1 #iterates for dataTM\n",
    "for i in range(startIndex,endIndex+interval,interval):\n",
    "    indexHolderCounter = 0\n",
    "    k=0\n",
    "    l=introLenght\n",
    "    for j in range(2,16,2):\n",
    "        TMIndexHolder[j-2]=int(dataTHR[i+j][17:20])\n",
    "        TMIndexHolder[j-1]=int(dataTHR[i+j][24:27])\n",
    "    while (l<alignedSeqLenght):\n",
    "        if indexHolderCounter == 14:\n",
    "             l=l+1000 #to break\n",
    "                \n",
    "        elif dataTM[loopCounter-1][l]=='-' and k<TMIndexHolder[indexHolderCounter]:\n",
    "            dataTM[loopCounter]= dataTM[loopCounter] + ' '\n",
    "            k=k-1\n",
    "            \n",
    "        elif dataTM[loopCounter-1][l]!='-'and k<TMIndexHolder[indexHolderCounter]:\n",
    "            dataTM[loopCounter]= dataTM[loopCounter] + ' '\n",
    "            \n",
    "        elif dataTM[loopCounter-1][l]=='-' and k<=TMIndexHolder[indexHolderCounter+1]:\n",
    "            dataTM[loopCounter]= dataTM[loopCounter] + ' '\n",
    "            k=k-1\n",
    "            \n",
    "        elif dataTM[loopCounter-1][l]!='-' and k<=TMIndexHolder[indexHolderCounter+1]:\n",
    "            dataTM[loopCounter]= dataTM[loopCounter] + dataSEQ[ran][k]\n",
    "            if k == TMIndexHolder[indexHolderCounter+1] and dataTM[loopCounter-1][l+1]=='-':\n",
    "                afterdash=True #after- to correct for the shift\n",
    "        else:\n",
    "            indexHolderCounter=indexHolderCounter+2\n",
    "            dataTM[loopCounter]= dataTM[loopCounter] + ' '\n",
    "            if afterdash:\n",
    "                k=k-1\n",
    "                afterdash=False\n",
    "            \n",
    "        if indexHolderCounter == 14:\n",
    "            l=l+1000 #to break\n",
    "        k=k+1\n",
    "        l=l+1\n",
    "    loopCounter = loopCounter+2\n",
    "    ran=ran+2\n",
    "  \n"
   ]
  },
  {
   "cell_type": "code",
   "execution_count": 206,
   "metadata": {
    "scrolled": true
   },
   "outputs": [
    {
     "data": {
      "text/plain": [
       "<function TextIOWrapper.close>"
      ]
     },
     "execution_count": 206,
     "metadata": {},
     "output_type": "execute_result"
    }
   ],
   "source": [
    "open('sorter_Output.txt', 'w').close() #Makes and empty file\n",
    "with open ('sorter_Output.txt','w') as f:\n",
    "    for x in dataTM:\n",
    "        f.write(x+'\\n')\n",
    "f.close"
   ]
  },
  {
   "cell_type": "code",
   "execution_count": null,
   "metadata": {},
   "outputs": [],
   "source": []
  },
  {
   "cell_type": "code",
   "execution_count": null,
   "metadata": {},
   "outputs": [],
   "source": []
  },
  {
   "cell_type": "code",
   "execution_count": null,
   "metadata": {},
   "outputs": [],
   "source": []
  },
  {
   "cell_type": "code",
   "execution_count": null,
   "metadata": {},
   "outputs": [],
   "source": []
  },
  {
   "cell_type": "code",
   "execution_count": null,
   "metadata": {},
   "outputs": [],
   "source": []
  },
  {
   "cell_type": "code",
   "execution_count": null,
   "metadata": {},
   "outputs": [],
   "source": []
  },
  {
   "cell_type": "code",
   "execution_count": null,
   "metadata": {},
   "outputs": [],
   "source": []
  },
  {
   "cell_type": "code",
   "execution_count": null,
   "metadata": {},
   "outputs": [],
   "source": []
  },
  {
   "cell_type": "code",
   "execution_count": null,
   "metadata": {},
   "outputs": [],
   "source": []
  },
  {
   "cell_type": "code",
   "execution_count": null,
   "metadata": {},
   "outputs": [],
   "source": []
  }
 ],
 "metadata": {
  "kernelspec": {
   "display_name": "Python 3.6",
   "language": "python",
   "name": "python36"
  },
  "language_info": {
   "codemirror_mode": {
    "name": "ipython",
    "version": 3
   },
   "file_extension": ".py",
   "mimetype": "text/x-python",
   "name": "python",
   "nbconvert_exporter": "python",
   "pygments_lexer": "ipython3",
   "version": "3.6.3"
  }
 },
 "nbformat": 4,
 "nbformat_minor": 2
}
